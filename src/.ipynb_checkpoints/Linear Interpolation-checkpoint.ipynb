{
 "cells": [
  {
   "cell_type": "code",
   "execution_count": 1,
   "id": "377d2482",
   "metadata": {},
   "outputs": [],
   "source": [
    "import os\n",
    "import pandas as pd\n",
    "import seaborn as sns"
   ]
  },
  {
   "cell_type": "code",
   "execution_count": null,
   "id": "a28ee822",
   "metadata": {},
   "outputs": [],
   "source": [
    "folder = os.path.join(os.getcwd(),'..','data','korpus')\n",
    "\n",
    "vanilla = os.path.join(os.getcwd(),'..','data','korpus','ngram','vanilla')\n",
    "unk = os.path.join(os.getcwd(),'..','data','korpus','ngram','unk')"
   ]
  },
  {
   "cell_type": "code",
   "execution_count": null,
   "id": "f0f134a4",
   "metadata": {},
   "outputs": [],
   "source": []
  },
  {
   "cell_type": "code",
   "execution_count": 17,
   "id": "3b189e16",
   "metadata": {},
   "outputs": [],
   "source": [
    "def linear_interpolation(sentence:str, model:str = 'vanilla'):\n",
    "    \n",
    "    unigram = df.read_csv(os.path.join(model,'unigram.csv'))\n",
    "    bigram  = df.read_csv(os.path.join(model,'bigram.csv'))\n",
    "    trigram = df.read_csv(os.path.join(model,'tri.csv'))\n",
    "    \n",
    "    models = [(unigram,0.1),(bigram,0.3),(trigram,0.6)]\n",
    "    \n",
    "    words = sentence.split(' ')\n",
    "    word_count = len(words)\n",
    "    \n",
    "    #For every word\n",
    "    for i in range(word_count):\n",
    "        \n",
    "        for j in range(max(0, min(word_count-i, 3))):\n",
    "            models[j]\n",
    "        \n",
    "        \n",
    "    \n",
    "    pass\n",
    "\n",
    "linear_interpolation('Hey')"
   ]
  }
 ],
 "metadata": {
  "kernelspec": {
   "display_name": "Python 3 (ipykernel)",
   "language": "python",
   "name": "python3"
  },
  "language_info": {
   "codemirror_mode": {
    "name": "ipython",
    "version": 3
   },
   "file_extension": ".py",
   "mimetype": "text/x-python",
   "name": "python",
   "nbconvert_exporter": "python",
   "pygments_lexer": "ipython3",
   "version": "3.9.7"
  }
 },
 "nbformat": 4,
 "nbformat_minor": 5
}
