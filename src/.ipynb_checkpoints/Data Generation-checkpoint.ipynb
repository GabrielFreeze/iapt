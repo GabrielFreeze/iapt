{
 "cells": [
  {
   "cell_type": "code",
   "execution_count": 1,
   "id": "215d7223",
   "metadata": {},
   "outputs": [],
   "source": [
    "import numpy as np\n",
    "import pandas as pd\n",
    "import os\n",
    "import json"
   ]
  },
  {
   "cell_type": "code",
   "execution_count": 17,
   "id": "2880e636",
   "metadata": {},
   "outputs": [],
   "source": [
    "read_paths = [\"sources\", \"wordforms\"]\n",
    "\n",
    "\n",
    "for rp in read_paths:\n",
    "    read_path = os.path.join(os.getcwd(),'..','data','gabra', rp+\".json\")\n",
    "    write_path = os.path.join(os.getcwd(),'..','data','gabra',rp+\".csv\")\n",
    "\n",
    "    df = pd.DataFrame()\n",
    "\n",
    "    with open(read_path, encoding='utf-8') as f:\n",
    "        lines = f.readlines()\n",
    "\n",
    "        for i,l in enumerate(lines):\n",
    "\n",
    "            if len(l) != 1:\n",
    "                json_object = json.loads(l)\n",
    "                df_tmp = pd.json_normalize(json_object)\n",
    "                df = pd.concat([df,df_tmp], ignore_index=True)\n",
    "\n",
    "    df.drop(\"_id.$oid\", axis=1, inplace=True)\n",
    "\n",
    "    df.to_csv(write_path, index=False, header=True, encoding='utf-32')\n",
    "    \n"
   ]
  }
 ],
 "metadata": {
  "kernelspec": {
   "display_name": "iapt-venv",
   "language": "python",
   "name": "iapt-venv"
  },
  "language_info": {
   "codemirror_mode": {
    "name": "ipython",
    "version": 3
   },
   "file_extension": ".py",
   "mimetype": "text/x-python",
   "name": "python",
   "nbconvert_exporter": "python",
   "pygments_lexer": "ipython3",
   "version": "3.9.7"
  }
 },
 "nbformat": 4,
 "nbformat_minor": 5
}
